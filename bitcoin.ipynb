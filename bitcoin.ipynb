{
 "cells": [
  {
   "cell_type": "code",
   "execution_count": 1,
   "id": "a76d081a-0e07-4e32-bf53-b81214d7689e",
   "metadata": {},
   "outputs": [],
   "source": [
    "import pandas as pd\n",
    "import matplotlib.pyplot as plt\n",
    "import seaborn as sns\n",
    "import numpy as np\n",
    "from sklearn.model_selection import train_test_split\n",
    "from sklearn.linear_model import LinearRegression\n",
    "from sklearn import metrics"
   ]
  },
  {
   "cell_type": "code",
   "execution_count": 2,
   "id": "fe1f1433-f7b9-4ac1-99bc-deef63e2d240",
   "metadata": {},
   "outputs": [],
   "source": [
    "# Read the file using pandas libraries\n",
    "bt = pd.read_excel(r\"C:\\Users\\abhip\\Desktop\\btcusd_1-min_data (1).xlsx\")"
   ]
  },
  {
   "cell_type": "code",
   "execution_count": 3,
   "id": "c0a3b4fa-bf30-465d-94d5-e9e0295689a2",
   "metadata": {},
   "outputs": [
    {
     "data": {
      "text/html": [
       "<div>\n",
       "<style scoped>\n",
       "    .dataframe tbody tr th:only-of-type {\n",
       "        vertical-align: middle;\n",
       "    }\n",
       "\n",
       "    .dataframe tbody tr th {\n",
       "        vertical-align: top;\n",
       "    }\n",
       "\n",
       "    .dataframe thead th {\n",
       "        text-align: right;\n",
       "    }\n",
       "</style>\n",
       "<table border=\"1\" class=\"dataframe\">\n",
       "  <thead>\n",
       "    <tr style=\"text-align: right;\">\n",
       "      <th></th>\n",
       "      <th>Timestamp</th>\n",
       "      <th>Open</th>\n",
       "      <th>High</th>\n",
       "      <th>Low</th>\n",
       "      <th>Close</th>\n",
       "      <th>Volume</th>\n",
       "    </tr>\n",
       "  </thead>\n",
       "  <tbody>\n",
       "    <tr>\n",
       "      <th>0</th>\n",
       "      <td>1325412060</td>\n",
       "      <td>4.58</td>\n",
       "      <td>4.58</td>\n",
       "      <td>4.58</td>\n",
       "      <td>4.58</td>\n",
       "      <td>0.000000</td>\n",
       "    </tr>\n",
       "    <tr>\n",
       "      <th>1</th>\n",
       "      <td>1325412120</td>\n",
       "      <td>4.58</td>\n",
       "      <td>4.58</td>\n",
       "      <td>4.58</td>\n",
       "      <td>4.58</td>\n",
       "      <td>0.000000</td>\n",
       "    </tr>\n",
       "    <tr>\n",
       "      <th>2</th>\n",
       "      <td>1325412180</td>\n",
       "      <td>4.58</td>\n",
       "      <td>4.58</td>\n",
       "      <td>4.58</td>\n",
       "      <td>4.58</td>\n",
       "      <td>0.000000</td>\n",
       "    </tr>\n",
       "    <tr>\n",
       "      <th>3</th>\n",
       "      <td>1325412240</td>\n",
       "      <td>4.58</td>\n",
       "      <td>4.58</td>\n",
       "      <td>4.58</td>\n",
       "      <td>4.58</td>\n",
       "      <td>0.000000</td>\n",
       "    </tr>\n",
       "    <tr>\n",
       "      <th>4</th>\n",
       "      <td>1325412300</td>\n",
       "      <td>4.58</td>\n",
       "      <td>4.58</td>\n",
       "      <td>4.58</td>\n",
       "      <td>4.58</td>\n",
       "      <td>0.000000</td>\n",
       "    </tr>\n",
       "    <tr>\n",
       "      <th>...</th>\n",
       "      <td>...</td>\n",
       "      <td>...</td>\n",
       "      <td>...</td>\n",
       "      <td>...</td>\n",
       "      <td>...</td>\n",
       "      <td>...</td>\n",
       "    </tr>\n",
       "    <tr>\n",
       "      <th>1048570</th>\n",
       "      <td>1388333460</td>\n",
       "      <td>709.69</td>\n",
       "      <td>709.69</td>\n",
       "      <td>709.69</td>\n",
       "      <td>709.69</td>\n",
       "      <td>1.152604</td>\n",
       "    </tr>\n",
       "    <tr>\n",
       "      <th>1048571</th>\n",
       "      <td>1388333520</td>\n",
       "      <td>709.69</td>\n",
       "      <td>709.69</td>\n",
       "      <td>709.69</td>\n",
       "      <td>709.69</td>\n",
       "      <td>0.000000</td>\n",
       "    </tr>\n",
       "    <tr>\n",
       "      <th>1048572</th>\n",
       "      <td>1388333580</td>\n",
       "      <td>709.69</td>\n",
       "      <td>709.69</td>\n",
       "      <td>709.69</td>\n",
       "      <td>709.69</td>\n",
       "      <td>0.330000</td>\n",
       "    </tr>\n",
       "    <tr>\n",
       "      <th>1048573</th>\n",
       "      <td>1388333640</td>\n",
       "      <td>709.70</td>\n",
       "      <td>709.70</td>\n",
       "      <td>709.70</td>\n",
       "      <td>709.70</td>\n",
       "      <td>0.402601</td>\n",
       "    </tr>\n",
       "    <tr>\n",
       "      <th>1048574</th>\n",
       "      <td>1388333700</td>\n",
       "      <td>709.70</td>\n",
       "      <td>709.70</td>\n",
       "      <td>709.70</td>\n",
       "      <td>709.70</td>\n",
       "      <td>0.000000</td>\n",
       "    </tr>\n",
       "  </tbody>\n",
       "</table>\n",
       "<p>1048575 rows × 6 columns</p>\n",
       "</div>"
      ],
      "text/plain": [
       "          Timestamp    Open    High     Low   Close    Volume\n",
       "0        1325412060    4.58    4.58    4.58    4.58  0.000000\n",
       "1        1325412120    4.58    4.58    4.58    4.58  0.000000\n",
       "2        1325412180    4.58    4.58    4.58    4.58  0.000000\n",
       "3        1325412240    4.58    4.58    4.58    4.58  0.000000\n",
       "4        1325412300    4.58    4.58    4.58    4.58  0.000000\n",
       "...             ...     ...     ...     ...     ...       ...\n",
       "1048570  1388333460  709.69  709.69  709.69  709.69  1.152604\n",
       "1048571  1388333520  709.69  709.69  709.69  709.69  0.000000\n",
       "1048572  1388333580  709.69  709.69  709.69  709.69  0.330000\n",
       "1048573  1388333640  709.70  709.70  709.70  709.70  0.402601\n",
       "1048574  1388333700  709.70  709.70  709.70  709.70  0.000000\n",
       "\n",
       "[1048575 rows x 6 columns]"
      ]
     },
     "execution_count": 3,
     "metadata": {},
     "output_type": "execute_result"
    }
   ],
   "source": [
    "bt"
   ]
  },
  {
   "cell_type": "code",
   "execution_count": 4,
   "id": "92473882-e8dc-4d08-bec8-15dccf423a50",
   "metadata": {},
   "outputs": [
    {
     "data": {
      "text/html": [
       "<div>\n",
       "<style scoped>\n",
       "    .dataframe tbody tr th:only-of-type {\n",
       "        vertical-align: middle;\n",
       "    }\n",
       "\n",
       "    .dataframe tbody tr th {\n",
       "        vertical-align: top;\n",
       "    }\n",
       "\n",
       "    .dataframe thead th {\n",
       "        text-align: right;\n",
       "    }\n",
       "</style>\n",
       "<table border=\"1\" class=\"dataframe\">\n",
       "  <thead>\n",
       "    <tr style=\"text-align: right;\">\n",
       "      <th></th>\n",
       "      <th>Timestamp</th>\n",
       "      <th>Open</th>\n",
       "      <th>High</th>\n",
       "      <th>Low</th>\n",
       "      <th>Close</th>\n",
       "      <th>Volume</th>\n",
       "    </tr>\n",
       "  </thead>\n",
       "  <tbody>\n",
       "    <tr>\n",
       "      <th>0</th>\n",
       "      <td>1325412060</td>\n",
       "      <td>4.58</td>\n",
       "      <td>4.58</td>\n",
       "      <td>4.58</td>\n",
       "      <td>4.58</td>\n",
       "      <td>0.0</td>\n",
       "    </tr>\n",
       "    <tr>\n",
       "      <th>1</th>\n",
       "      <td>1325412120</td>\n",
       "      <td>4.58</td>\n",
       "      <td>4.58</td>\n",
       "      <td>4.58</td>\n",
       "      <td>4.58</td>\n",
       "      <td>0.0</td>\n",
       "    </tr>\n",
       "    <tr>\n",
       "      <th>2</th>\n",
       "      <td>1325412180</td>\n",
       "      <td>4.58</td>\n",
       "      <td>4.58</td>\n",
       "      <td>4.58</td>\n",
       "      <td>4.58</td>\n",
       "      <td>0.0</td>\n",
       "    </tr>\n",
       "    <tr>\n",
       "      <th>3</th>\n",
       "      <td>1325412240</td>\n",
       "      <td>4.58</td>\n",
       "      <td>4.58</td>\n",
       "      <td>4.58</td>\n",
       "      <td>4.58</td>\n",
       "      <td>0.0</td>\n",
       "    </tr>\n",
       "    <tr>\n",
       "      <th>4</th>\n",
       "      <td>1325412300</td>\n",
       "      <td>4.58</td>\n",
       "      <td>4.58</td>\n",
       "      <td>4.58</td>\n",
       "      <td>4.58</td>\n",
       "      <td>0.0</td>\n",
       "    </tr>\n",
       "  </tbody>\n",
       "</table>\n",
       "</div>"
      ],
      "text/plain": [
       "    Timestamp  Open  High   Low  Close  Volume\n",
       "0  1325412060  4.58  4.58  4.58   4.58     0.0\n",
       "1  1325412120  4.58  4.58  4.58   4.58     0.0\n",
       "2  1325412180  4.58  4.58  4.58   4.58     0.0\n",
       "3  1325412240  4.58  4.58  4.58   4.58     0.0\n",
       "4  1325412300  4.58  4.58  4.58   4.58     0.0"
      ]
     },
     "execution_count": 4,
     "metadata": {},
     "output_type": "execute_result"
    }
   ],
   "source": [
    "bt.head()"
   ]
  },
  {
   "cell_type": "code",
   "execution_count": 5,
   "id": "7577b8e0-b12c-4339-b2db-94651d276de6",
   "metadata": {},
   "outputs": [
    {
     "data": {
      "text/html": [
       "<div>\n",
       "<style scoped>\n",
       "    .dataframe tbody tr th:only-of-type {\n",
       "        vertical-align: middle;\n",
       "    }\n",
       "\n",
       "    .dataframe tbody tr th {\n",
       "        vertical-align: top;\n",
       "    }\n",
       "\n",
       "    .dataframe thead th {\n",
       "        text-align: right;\n",
       "    }\n",
       "</style>\n",
       "<table border=\"1\" class=\"dataframe\">\n",
       "  <thead>\n",
       "    <tr style=\"text-align: right;\">\n",
       "      <th></th>\n",
       "      <th>Timestamp</th>\n",
       "      <th>Open</th>\n",
       "      <th>High</th>\n",
       "      <th>Low</th>\n",
       "      <th>Close</th>\n",
       "      <th>Volume</th>\n",
       "    </tr>\n",
       "  </thead>\n",
       "  <tbody>\n",
       "    <tr>\n",
       "      <th>1048570</th>\n",
       "      <td>1388333460</td>\n",
       "      <td>709.69</td>\n",
       "      <td>709.69</td>\n",
       "      <td>709.69</td>\n",
       "      <td>709.69</td>\n",
       "      <td>1.152604</td>\n",
       "    </tr>\n",
       "    <tr>\n",
       "      <th>1048571</th>\n",
       "      <td>1388333520</td>\n",
       "      <td>709.69</td>\n",
       "      <td>709.69</td>\n",
       "      <td>709.69</td>\n",
       "      <td>709.69</td>\n",
       "      <td>0.000000</td>\n",
       "    </tr>\n",
       "    <tr>\n",
       "      <th>1048572</th>\n",
       "      <td>1388333580</td>\n",
       "      <td>709.69</td>\n",
       "      <td>709.69</td>\n",
       "      <td>709.69</td>\n",
       "      <td>709.69</td>\n",
       "      <td>0.330000</td>\n",
       "    </tr>\n",
       "    <tr>\n",
       "      <th>1048573</th>\n",
       "      <td>1388333640</td>\n",
       "      <td>709.70</td>\n",
       "      <td>709.70</td>\n",
       "      <td>709.70</td>\n",
       "      <td>709.70</td>\n",
       "      <td>0.402601</td>\n",
       "    </tr>\n",
       "    <tr>\n",
       "      <th>1048574</th>\n",
       "      <td>1388333700</td>\n",
       "      <td>709.70</td>\n",
       "      <td>709.70</td>\n",
       "      <td>709.70</td>\n",
       "      <td>709.70</td>\n",
       "      <td>0.000000</td>\n",
       "    </tr>\n",
       "  </tbody>\n",
       "</table>\n",
       "</div>"
      ],
      "text/plain": [
       "          Timestamp    Open    High     Low   Close    Volume\n",
       "1048570  1388333460  709.69  709.69  709.69  709.69  1.152604\n",
       "1048571  1388333520  709.69  709.69  709.69  709.69  0.000000\n",
       "1048572  1388333580  709.69  709.69  709.69  709.69  0.330000\n",
       "1048573  1388333640  709.70  709.70  709.70  709.70  0.402601\n",
       "1048574  1388333700  709.70  709.70  709.70  709.70  0.000000"
      ]
     },
     "execution_count": 5,
     "metadata": {},
     "output_type": "execute_result"
    }
   ],
   "source": [
    "bt.tail()"
   ]
  },
  {
   "cell_type": "code",
   "execution_count": 6,
   "id": "027db757-55d3-4c4b-a5c8-760cb30a8c44",
   "metadata": {},
   "outputs": [
    {
     "data": {
      "text/html": [
       "<div>\n",
       "<style scoped>\n",
       "    .dataframe tbody tr th:only-of-type {\n",
       "        vertical-align: middle;\n",
       "    }\n",
       "\n",
       "    .dataframe tbody tr th {\n",
       "        vertical-align: top;\n",
       "    }\n",
       "\n",
       "    .dataframe thead th {\n",
       "        text-align: right;\n",
       "    }\n",
       "</style>\n",
       "<table border=\"1\" class=\"dataframe\">\n",
       "  <thead>\n",
       "    <tr style=\"text-align: right;\">\n",
       "      <th></th>\n",
       "      <th>Timestamp</th>\n",
       "      <th>Open</th>\n",
       "      <th>High</th>\n",
       "      <th>Low</th>\n",
       "      <th>Close</th>\n",
       "      <th>Volume</th>\n",
       "    </tr>\n",
       "  </thead>\n",
       "  <tbody>\n",
       "    <tr>\n",
       "      <th>609565</th>\n",
       "      <td>1361989560</td>\n",
       "      <td>31.09</td>\n",
       "      <td>31.09</td>\n",
       "      <td>31.09</td>\n",
       "      <td>31.09</td>\n",
       "      <td>0.000000</td>\n",
       "    </tr>\n",
       "    <tr>\n",
       "      <th>588561</th>\n",
       "      <td>1360729320</td>\n",
       "      <td>25.02</td>\n",
       "      <td>25.02</td>\n",
       "      <td>25.00</td>\n",
       "      <td>25.00</td>\n",
       "      <td>13.758682</td>\n",
       "    </tr>\n",
       "    <tr>\n",
       "      <th>377909</th>\n",
       "      <td>1348086600</td>\n",
       "      <td>12.47</td>\n",
       "      <td>12.47</td>\n",
       "      <td>12.47</td>\n",
       "      <td>12.47</td>\n",
       "      <td>0.000000</td>\n",
       "    </tr>\n",
       "    <tr>\n",
       "      <th>990986</th>\n",
       "      <td>1384878420</td>\n",
       "      <td>625.30</td>\n",
       "      <td>628.48</td>\n",
       "      <td>625.21</td>\n",
       "      <td>625.31</td>\n",
       "      <td>23.577121</td>\n",
       "    </tr>\n",
       "    <tr>\n",
       "      <th>328841</th>\n",
       "      <td>1345142520</td>\n",
       "      <td>13.42</td>\n",
       "      <td>13.42</td>\n",
       "      <td>13.42</td>\n",
       "      <td>13.42</td>\n",
       "      <td>0.000000</td>\n",
       "    </tr>\n",
       "  </tbody>\n",
       "</table>\n",
       "</div>"
      ],
      "text/plain": [
       "         Timestamp    Open    High     Low   Close     Volume\n",
       "609565  1361989560   31.09   31.09   31.09   31.09   0.000000\n",
       "588561  1360729320   25.02   25.02   25.00   25.00  13.758682\n",
       "377909  1348086600   12.47   12.47   12.47   12.47   0.000000\n",
       "990986  1384878420  625.30  628.48  625.21  625.31  23.577121\n",
       "328841  1345142520   13.42   13.42   13.42   13.42   0.000000"
      ]
     },
     "execution_count": 6,
     "metadata": {},
     "output_type": "execute_result"
    }
   ],
   "source": [
    "bt.sample(5)"
   ]
  },
  {
   "cell_type": "code",
   "execution_count": 7,
   "id": "c41eff0f-f4fa-455a-aba8-bba9e6126b0b",
   "metadata": {},
   "outputs": [
    {
     "data": {
      "text/plain": [
       "Index(['Timestamp', 'Open', 'High', 'Low', 'Close', 'Volume'], dtype='object')"
      ]
     },
     "execution_count": 7,
     "metadata": {},
     "output_type": "execute_result"
    }
   ],
   "source": [
    "bt.columns"
   ]
  },
  {
   "cell_type": "code",
   "execution_count": 8,
   "id": "873236c4-8638-4678-b046-e8123a43a89d",
   "metadata": {},
   "outputs": [
    {
     "data": {
      "text/plain": [
       "6291450"
      ]
     },
     "execution_count": 8,
     "metadata": {},
     "output_type": "execute_result"
    }
   ],
   "source": [
    "bt.size"
   ]
  },
  {
   "cell_type": "code",
   "execution_count": 9,
   "id": "4692727a-7465-4976-9a85-eb72b5f6b637",
   "metadata": {},
   "outputs": [
    {
     "data": {
      "text/plain": [
       "(1048575, 6)"
      ]
     },
     "execution_count": 9,
     "metadata": {},
     "output_type": "execute_result"
    }
   ],
   "source": [
    "bt.shape"
   ]
  },
  {
   "cell_type": "code",
   "execution_count": 10,
   "id": "2d8a44cc-c7a7-4a7d-8a86-ae09facb1d49",
   "metadata": {},
   "outputs": [
    {
     "data": {
      "text/html": [
       "<div>\n",
       "<style scoped>\n",
       "    .dataframe tbody tr th:only-of-type {\n",
       "        vertical-align: middle;\n",
       "    }\n",
       "\n",
       "    .dataframe tbody tr th {\n",
       "        vertical-align: top;\n",
       "    }\n",
       "\n",
       "    .dataframe thead th {\n",
       "        text-align: right;\n",
       "    }\n",
       "</style>\n",
       "<table border=\"1\" class=\"dataframe\">\n",
       "  <thead>\n",
       "    <tr style=\"text-align: right;\">\n",
       "      <th></th>\n",
       "      <th>Timestamp</th>\n",
       "      <th>Open</th>\n",
       "      <th>High</th>\n",
       "      <th>Low</th>\n",
       "      <th>Close</th>\n",
       "      <th>Volume</th>\n",
       "    </tr>\n",
       "  </thead>\n",
       "  <tbody>\n",
       "    <tr>\n",
       "      <th>count</th>\n",
       "      <td>1.048575e+06</td>\n",
       "      <td>1.048575e+06</td>\n",
       "      <td>1.048575e+06</td>\n",
       "      <td>1.048575e+06</td>\n",
       "      <td>1.048575e+06</td>\n",
       "      <td>1.048575e+06</td>\n",
       "    </tr>\n",
       "    <tr>\n",
       "      <th>mean</th>\n",
       "      <td>1.356872e+09</td>\n",
       "      <td>9.555659e+01</td>\n",
       "      <td>9.567038e+01</td>\n",
       "      <td>9.542809e+01</td>\n",
       "      <td>9.555133e+01</td>\n",
       "      <td>5.320081e+00</td>\n",
       "    </tr>\n",
       "    <tr>\n",
       "      <th>std</th>\n",
       "      <td>1.816383e+07</td>\n",
       "      <td>1.898933e+02</td>\n",
       "      <td>1.902193e+02</td>\n",
       "      <td>1.895322e+02</td>\n",
       "      <td>1.898865e+02</td>\n",
       "      <td>2.854537e+01</td>\n",
       "    </tr>\n",
       "    <tr>\n",
       "      <th>min</th>\n",
       "      <td>1.325412e+09</td>\n",
       "      <td>3.800000e+00</td>\n",
       "      <td>3.800000e+00</td>\n",
       "      <td>3.800000e+00</td>\n",
       "      <td>3.800000e+00</td>\n",
       "      <td>0.000000e+00</td>\n",
       "    </tr>\n",
       "    <tr>\n",
       "      <th>25%</th>\n",
       "      <td>1.341141e+09</td>\n",
       "      <td>6.800000e+00</td>\n",
       "      <td>6.800000e+00</td>\n",
       "      <td>6.800000e+00</td>\n",
       "      <td>6.800000e+00</td>\n",
       "      <td>0.000000e+00</td>\n",
       "    </tr>\n",
       "    <tr>\n",
       "      <th>50%</th>\n",
       "      <td>1.356873e+09</td>\n",
       "      <td>1.334000e+01</td>\n",
       "      <td>1.334000e+01</td>\n",
       "      <td>1.334000e+01</td>\n",
       "      <td>1.334000e+01</td>\n",
       "      <td>0.000000e+00</td>\n",
       "    </tr>\n",
       "    <tr>\n",
       "      <th>75%</th>\n",
       "      <td>1.372601e+09</td>\n",
       "      <td>1.101500e+02</td>\n",
       "      <td>1.102300e+02</td>\n",
       "      <td>1.100300e+02</td>\n",
       "      <td>1.101300e+02</td>\n",
       "      <td>9.008000e-01</td>\n",
       "    </tr>\n",
       "    <tr>\n",
       "      <th>max</th>\n",
       "      <td>1.388334e+09</td>\n",
       "      <td>1.163000e+03</td>\n",
       "      <td>1.163000e+03</td>\n",
       "      <td>1.162990e+03</td>\n",
       "      <td>1.163000e+03</td>\n",
       "      <td>2.958478e+03</td>\n",
       "    </tr>\n",
       "  </tbody>\n",
       "</table>\n",
       "</div>"
      ],
      "text/plain": [
       "          Timestamp          Open          High           Low         Close  \\\n",
       "count  1.048575e+06  1.048575e+06  1.048575e+06  1.048575e+06  1.048575e+06   \n",
       "mean   1.356872e+09  9.555659e+01  9.567038e+01  9.542809e+01  9.555133e+01   \n",
       "std    1.816383e+07  1.898933e+02  1.902193e+02  1.895322e+02  1.898865e+02   \n",
       "min    1.325412e+09  3.800000e+00  3.800000e+00  3.800000e+00  3.800000e+00   \n",
       "25%    1.341141e+09  6.800000e+00  6.800000e+00  6.800000e+00  6.800000e+00   \n",
       "50%    1.356873e+09  1.334000e+01  1.334000e+01  1.334000e+01  1.334000e+01   \n",
       "75%    1.372601e+09  1.101500e+02  1.102300e+02  1.100300e+02  1.101300e+02   \n",
       "max    1.388334e+09  1.163000e+03  1.163000e+03  1.162990e+03  1.163000e+03   \n",
       "\n",
       "             Volume  \n",
       "count  1.048575e+06  \n",
       "mean   5.320081e+00  \n",
       "std    2.854537e+01  \n",
       "min    0.000000e+00  \n",
       "25%    0.000000e+00  \n",
       "50%    0.000000e+00  \n",
       "75%    9.008000e-01  \n",
       "max    2.958478e+03  "
      ]
     },
     "execution_count": 10,
     "metadata": {},
     "output_type": "execute_result"
    }
   ],
   "source": [
    "bt.describe()"
   ]
  },
  {
   "cell_type": "code",
   "execution_count": 11,
   "id": "c7dc2ed6-0677-4fe2-89a8-95bebc02123b",
   "metadata": {},
   "outputs": [
    {
     "name": "stdout",
     "output_type": "stream",
     "text": [
      "<class 'pandas.core.frame.DataFrame'>\n",
      "RangeIndex: 1048575 entries, 0 to 1048574\n",
      "Data columns (total 6 columns):\n",
      " #   Column     Non-Null Count    Dtype  \n",
      "---  ------     --------------    -----  \n",
      " 0   Timestamp  1048575 non-null  int64  \n",
      " 1   Open       1048575 non-null  float64\n",
      " 2   High       1048575 non-null  float64\n",
      " 3   Low        1048575 non-null  float64\n",
      " 4   Close      1048575 non-null  float64\n",
      " 5   Volume     1048575 non-null  float64\n",
      "dtypes: float64(5), int64(1)\n",
      "memory usage: 48.0 MB\n"
     ]
    }
   ],
   "source": [
    "bt.info()"
   ]
  },
  {
   "cell_type": "code",
   "execution_count": 12,
   "id": "a737ced8-d34a-4de7-9f4a-b4504a290be1",
   "metadata": {},
   "outputs": [
    {
     "data": {
      "text/plain": [
       "Timestamp    0\n",
       "Open         0\n",
       "High         0\n",
       "Low          0\n",
       "Close        0\n",
       "Volume       0\n",
       "dtype: int64"
      ]
     },
     "execution_count": 12,
     "metadata": {},
     "output_type": "execute_result"
    }
   ],
   "source": [
    "bt.isnull().sum()"
   ]
  },
  {
   "cell_type": "markdown",
   "id": "db8763a8-5a11-4242-8270-ceef8c6d8806",
   "metadata": {},
   "source": [
    "<h4 style='color:red',text align='center'>Float columns data convert into integer</h4>"
   ]
  },
  {
   "cell_type": "code",
   "execution_count": 13,
   "id": "29f07d9e-00e8-41c8-a9d8-d55cf28f83b5",
   "metadata": {},
   "outputs": [],
   "source": [
    "bt['Open']=bt['Open'].astype(int)\n",
    "bt['High']=bt['High'].astype(int)\n",
    "bt['Low']=bt['Low'].astype(int)\n",
    "bt['Close']=bt['Close'].astype(int)\n",
    "bt['Volume']=bt['Volume'].astype(int)"
   ]
  },
  {
   "cell_type": "code",
   "execution_count": 14,
   "id": "85d82722-c4ce-4b5c-8035-826165a7b889",
   "metadata": {},
   "outputs": [
    {
     "name": "stdout",
     "output_type": "stream",
     "text": [
      "<class 'pandas.core.frame.DataFrame'>\n",
      "RangeIndex: 1048575 entries, 0 to 1048574\n",
      "Data columns (total 6 columns):\n",
      " #   Column     Non-Null Count    Dtype\n",
      "---  ------     --------------    -----\n",
      " 0   Timestamp  1048575 non-null  int64\n",
      " 1   Open       1048575 non-null  int32\n",
      " 2   High       1048575 non-null  int32\n",
      " 3   Low        1048575 non-null  int32\n",
      " 4   Close      1048575 non-null  int32\n",
      " 5   Volume     1048575 non-null  int32\n",
      "dtypes: int32(5), int64(1)\n",
      "memory usage: 28.0 MB\n"
     ]
    }
   ],
   "source": [
    "bt.info()"
   ]
  },
  {
   "cell_type": "code",
   "execution_count": 15,
   "id": "d1e4ae32-e3a6-4e11-88b7-c7a85ab14da1",
   "metadata": {},
   "outputs": [],
   "source": [
    "x = bt.drop(['Open'],axis=1)\n",
    "y = bt['Open']"
   ]
  },
  {
   "cell_type": "code",
   "execution_count": 16,
   "id": "1108876b-88c5-4b71-87f8-e1d9f89e01f7",
   "metadata": {},
   "outputs": [
    {
     "data": {
      "text/html": [
       "<div>\n",
       "<style scoped>\n",
       "    .dataframe tbody tr th:only-of-type {\n",
       "        vertical-align: middle;\n",
       "    }\n",
       "\n",
       "    .dataframe tbody tr th {\n",
       "        vertical-align: top;\n",
       "    }\n",
       "\n",
       "    .dataframe thead th {\n",
       "        text-align: right;\n",
       "    }\n",
       "</style>\n",
       "<table border=\"1\" class=\"dataframe\">\n",
       "  <thead>\n",
       "    <tr style=\"text-align: right;\">\n",
       "      <th></th>\n",
       "      <th>Timestamp</th>\n",
       "      <th>High</th>\n",
       "      <th>Low</th>\n",
       "      <th>Close</th>\n",
       "      <th>Volume</th>\n",
       "    </tr>\n",
       "  </thead>\n",
       "  <tbody>\n",
       "    <tr>\n",
       "      <th>0</th>\n",
       "      <td>1325412060</td>\n",
       "      <td>4</td>\n",
       "      <td>4</td>\n",
       "      <td>4</td>\n",
       "      <td>0</td>\n",
       "    </tr>\n",
       "    <tr>\n",
       "      <th>1</th>\n",
       "      <td>1325412120</td>\n",
       "      <td>4</td>\n",
       "      <td>4</td>\n",
       "      <td>4</td>\n",
       "      <td>0</td>\n",
       "    </tr>\n",
       "    <tr>\n",
       "      <th>2</th>\n",
       "      <td>1325412180</td>\n",
       "      <td>4</td>\n",
       "      <td>4</td>\n",
       "      <td>4</td>\n",
       "      <td>0</td>\n",
       "    </tr>\n",
       "    <tr>\n",
       "      <th>3</th>\n",
       "      <td>1325412240</td>\n",
       "      <td>4</td>\n",
       "      <td>4</td>\n",
       "      <td>4</td>\n",
       "      <td>0</td>\n",
       "    </tr>\n",
       "    <tr>\n",
       "      <th>4</th>\n",
       "      <td>1325412300</td>\n",
       "      <td>4</td>\n",
       "      <td>4</td>\n",
       "      <td>4</td>\n",
       "      <td>0</td>\n",
       "    </tr>\n",
       "    <tr>\n",
       "      <th>...</th>\n",
       "      <td>...</td>\n",
       "      <td>...</td>\n",
       "      <td>...</td>\n",
       "      <td>...</td>\n",
       "      <td>...</td>\n",
       "    </tr>\n",
       "    <tr>\n",
       "      <th>1048570</th>\n",
       "      <td>1388333460</td>\n",
       "      <td>709</td>\n",
       "      <td>709</td>\n",
       "      <td>709</td>\n",
       "      <td>1</td>\n",
       "    </tr>\n",
       "    <tr>\n",
       "      <th>1048571</th>\n",
       "      <td>1388333520</td>\n",
       "      <td>709</td>\n",
       "      <td>709</td>\n",
       "      <td>709</td>\n",
       "      <td>0</td>\n",
       "    </tr>\n",
       "    <tr>\n",
       "      <th>1048572</th>\n",
       "      <td>1388333580</td>\n",
       "      <td>709</td>\n",
       "      <td>709</td>\n",
       "      <td>709</td>\n",
       "      <td>0</td>\n",
       "    </tr>\n",
       "    <tr>\n",
       "      <th>1048573</th>\n",
       "      <td>1388333640</td>\n",
       "      <td>709</td>\n",
       "      <td>709</td>\n",
       "      <td>709</td>\n",
       "      <td>0</td>\n",
       "    </tr>\n",
       "    <tr>\n",
       "      <th>1048574</th>\n",
       "      <td>1388333700</td>\n",
       "      <td>709</td>\n",
       "      <td>709</td>\n",
       "      <td>709</td>\n",
       "      <td>0</td>\n",
       "    </tr>\n",
       "  </tbody>\n",
       "</table>\n",
       "<p>1048575 rows × 5 columns</p>\n",
       "</div>"
      ],
      "text/plain": [
       "          Timestamp  High  Low  Close  Volume\n",
       "0        1325412060     4    4      4       0\n",
       "1        1325412120     4    4      4       0\n",
       "2        1325412180     4    4      4       0\n",
       "3        1325412240     4    4      4       0\n",
       "4        1325412300     4    4      4       0\n",
       "...             ...   ...  ...    ...     ...\n",
       "1048570  1388333460   709  709    709       1\n",
       "1048571  1388333520   709  709    709       0\n",
       "1048572  1388333580   709  709    709       0\n",
       "1048573  1388333640   709  709    709       0\n",
       "1048574  1388333700   709  709    709       0\n",
       "\n",
       "[1048575 rows x 5 columns]"
      ]
     },
     "execution_count": 16,
     "metadata": {},
     "output_type": "execute_result"
    }
   ],
   "source": [
    "x"
   ]
  },
  {
   "cell_type": "code",
   "execution_count": 17,
   "id": "610dc3a4-d208-4b7d-a836-e678e4e4ec19",
   "metadata": {},
   "outputs": [
    {
     "data": {
      "text/plain": [
       "0            4\n",
       "1            4\n",
       "2            4\n",
       "3            4\n",
       "4            4\n",
       "          ... \n",
       "1048570    709\n",
       "1048571    709\n",
       "1048572    709\n",
       "1048573    709\n",
       "1048574    709\n",
       "Name: Open, Length: 1048575, dtype: int32"
      ]
     },
     "execution_count": 17,
     "metadata": {},
     "output_type": "execute_result"
    }
   ],
   "source": [
    "y"
   ]
  },
  {
   "cell_type": "code",
   "execution_count": 18,
   "id": "8ee6ee67-4bab-41cb-a30f-173b6efe762c",
   "metadata": {},
   "outputs": [],
   "source": [
    "x_train,x_test,y_train,y_test = train_test_split(x,y,test_size = 0.2,random_state = 1)"
   ]
  },
  {
   "cell_type": "code",
   "execution_count": 19,
   "id": "c4be29fe-a82d-4dc0-82c6-e2f0ed36483e",
   "metadata": {},
   "outputs": [],
   "source": [
    "lin_reg_model=LinearRegression()"
   ]
  },
  {
   "cell_type": "code",
   "execution_count": 20,
   "id": "a680a1b4-63a2-4060-9e0c-bea3a7fc6956",
   "metadata": {},
   "outputs": [
    {
     "data": {
      "text/html": [
       "<style>#sk-container-id-1 {color: black;background-color: white;}#sk-container-id-1 pre{padding: 0;}#sk-container-id-1 div.sk-toggleable {background-color: white;}#sk-container-id-1 label.sk-toggleable__label {cursor: pointer;display: block;width: 100%;margin-bottom: 0;padding: 0.3em;box-sizing: border-box;text-align: center;}#sk-container-id-1 label.sk-toggleable__label-arrow:before {content: \"▸\";float: left;margin-right: 0.25em;color: #696969;}#sk-container-id-1 label.sk-toggleable__label-arrow:hover:before {color: black;}#sk-container-id-1 div.sk-estimator:hover label.sk-toggleable__label-arrow:before {color: black;}#sk-container-id-1 div.sk-toggleable__content {max-height: 0;max-width: 0;overflow: hidden;text-align: left;background-color: #f0f8ff;}#sk-container-id-1 div.sk-toggleable__content pre {margin: 0.2em;color: black;border-radius: 0.25em;background-color: #f0f8ff;}#sk-container-id-1 input.sk-toggleable__control:checked~div.sk-toggleable__content {max-height: 200px;max-width: 100%;overflow: auto;}#sk-container-id-1 input.sk-toggleable__control:checked~label.sk-toggleable__label-arrow:before {content: \"▾\";}#sk-container-id-1 div.sk-estimator input.sk-toggleable__control:checked~label.sk-toggleable__label {background-color: #d4ebff;}#sk-container-id-1 div.sk-label input.sk-toggleable__control:checked~label.sk-toggleable__label {background-color: #d4ebff;}#sk-container-id-1 input.sk-hidden--visually {border: 0;clip: rect(1px 1px 1px 1px);clip: rect(1px, 1px, 1px, 1px);height: 1px;margin: -1px;overflow: hidden;padding: 0;position: absolute;width: 1px;}#sk-container-id-1 div.sk-estimator {font-family: monospace;background-color: #f0f8ff;border: 1px dotted black;border-radius: 0.25em;box-sizing: border-box;margin-bottom: 0.5em;}#sk-container-id-1 div.sk-estimator:hover {background-color: #d4ebff;}#sk-container-id-1 div.sk-parallel-item::after {content: \"\";width: 100%;border-bottom: 1px solid gray;flex-grow: 1;}#sk-container-id-1 div.sk-label:hover label.sk-toggleable__label {background-color: #d4ebff;}#sk-container-id-1 div.sk-serial::before {content: \"\";position: absolute;border-left: 1px solid gray;box-sizing: border-box;top: 0;bottom: 0;left: 50%;z-index: 0;}#sk-container-id-1 div.sk-serial {display: flex;flex-direction: column;align-items: center;background-color: white;padding-right: 0.2em;padding-left: 0.2em;position: relative;}#sk-container-id-1 div.sk-item {position: relative;z-index: 1;}#sk-container-id-1 div.sk-parallel {display: flex;align-items: stretch;justify-content: center;background-color: white;position: relative;}#sk-container-id-1 div.sk-item::before, #sk-container-id-1 div.sk-parallel-item::before {content: \"\";position: absolute;border-left: 1px solid gray;box-sizing: border-box;top: 0;bottom: 0;left: 50%;z-index: -1;}#sk-container-id-1 div.sk-parallel-item {display: flex;flex-direction: column;z-index: 1;position: relative;background-color: white;}#sk-container-id-1 div.sk-parallel-item:first-child::after {align-self: flex-end;width: 50%;}#sk-container-id-1 div.sk-parallel-item:last-child::after {align-self: flex-start;width: 50%;}#sk-container-id-1 div.sk-parallel-item:only-child::after {width: 0;}#sk-container-id-1 div.sk-dashed-wrapped {border: 1px dashed gray;margin: 0 0.4em 0.5em 0.4em;box-sizing: border-box;padding-bottom: 0.4em;background-color: white;}#sk-container-id-1 div.sk-label label {font-family: monospace;font-weight: bold;display: inline-block;line-height: 1.2em;}#sk-container-id-1 div.sk-label-container {text-align: center;}#sk-container-id-1 div.sk-container {/* jupyter's `normalize.less` sets `[hidden] { display: none; }` but bootstrap.min.css set `[hidden] { display: none !important; }` so we also need the `!important` here to be able to override the default hidden behavior on the sphinx rendered scikit-learn.org. See: https://github.com/scikit-learn/scikit-learn/issues/21755 */display: inline-block !important;position: relative;}#sk-container-id-1 div.sk-text-repr-fallback {display: none;}</style><div id=\"sk-container-id-1\" class=\"sk-top-container\"><div class=\"sk-text-repr-fallback\"><pre>LinearRegression()</pre><b>In a Jupyter environment, please rerun this cell to show the HTML representation or trust the notebook. <br />On GitHub, the HTML representation is unable to render, please try loading this page with nbviewer.org.</b></div><div class=\"sk-container\" hidden><div class=\"sk-item\"><div class=\"sk-estimator sk-toggleable\"><input class=\"sk-toggleable__control sk-hidden--visually\" id=\"sk-estimator-id-1\" type=\"checkbox\" checked><label for=\"sk-estimator-id-1\" class=\"sk-toggleable__label sk-toggleable__label-arrow\">LinearRegression</label><div class=\"sk-toggleable__content\"><pre>LinearRegression()</pre></div></div></div></div></div>"
      ],
      "text/plain": [
       "LinearRegression()"
      ]
     },
     "execution_count": 20,
     "metadata": {},
     "output_type": "execute_result"
    }
   ],
   "source": [
    "lin_reg_model.fit(x_train,y_train)"
   ]
  },
  {
   "cell_type": "code",
   "execution_count": 21,
   "id": "878089ea-9c01-4e1a-b3e9-5461af7ea313",
   "metadata": {},
   "outputs": [],
   "source": [
    "\n",
    "trainning_data_prediction = lin_reg_model.predict(x_train)"
   ]
  },
  {
   "cell_type": "code",
   "execution_count": 22,
   "id": "4442d37d-322f-455f-bb73-3a4b1a27c2c4",
   "metadata": {},
   "outputs": [
    {
     "name": "stdout",
     "output_type": "stream",
     "text": [
      "r Squred error : 0.9999925012694495\n"
     ]
    }
   ],
   "source": [
    "error_score = metrics.r2_score(y_train,trainning_data_prediction)\n",
    "print('r Squred error :',error_score)"
   ]
  },
  {
   "cell_type": "code",
   "execution_count": 23,
   "id": "3ab0a0e2-1a7e-47a1-95fb-fa5a9efb8d88",
   "metadata": {},
   "outputs": [
    {
     "data": {
      "text/plain": [
       "<matplotlib.collections.PathCollection at 0x29fe4030590>"
      ]
     },
     "execution_count": 23,
     "metadata": {},
     "output_type": "execute_result"
    },
    {
     "data": {
      "image/png": "[encoded data removed]",
      "text/plain": [
       "<Figure size 640x480 with 1 Axes>"
      ]
     },
     "metadata": {},
     "output_type": "display_data"
    }
   ],
   "source": [
    "plt.scatter(y_train,trainning_data_prediction)"
   ]
  },
  {
   "cell_type": "code",
   "execution_count": 24,
   "id": "ad6386ee-31ad-4267-91df-1b40a0bdafc6",
   "metadata": {},
   "outputs": [],
   "source": [
    "test_data_prediction = lin_reg_model.predict(x_test)"
   ]
  },
  {
   "cell_type": "code",
   "execution_count": 25,
   "id": "3566b840-6325-4688-b23b-db1dc8da97c6",
   "metadata": {},
   "outputs": [
    {
     "name": "stdout",
     "output_type": "stream",
     "text": [
      "R squred error: 0.9999921116904253\n"
     ]
    }
   ],
   "source": [
    "error_score = metrics.r2_score(y_test,test_data_prediction)\n",
    "print('R squred error:',error_score)"
   ]
  },
  {
   "cell_type": "code",
   "execution_count": 26,
   "id": "02511a18-ef1a-4c16-a462-27b9b04cec07",
   "metadata": {},
   "outputs": [
    {
     "data": {
      "text/plain": [
       "<matplotlib.collections.PathCollection at 0x29fe7ffb350>"
      ]
     },
     "execution_count": 26,
     "metadata": {},
     "output_type": "execute_result"
    },
    {
     "data": {
      "image/png": "[encoded data removed]",
      "text/plain": [
       "<Figure size 640x480 with 1 Axes>"
      ]
     },
     "metadata": {},
     "output_type": "display_data"
    }
   ],
   "source": [
    "plt.scatter(y_test,test_data_prediction)"
   ]
  },
  {
   "cell_type": "code",
   "execution_count": 27,
   "id": "f6c5200b-b5c3-4b6d-82a1-f73bccdf64ca",
   "metadata": {},
   "outputs": [
    {
     "name": "stdout",
     "output_type": "stream",
     "text": [
      "[4.00233803]\n"
     ]
    },
    {
     "name": "stderr",
     "output_type": "stream",
     "text": [
      "C:\\ProgramData\\anaconda3\\Lib\\site-packages\\sklearn\\base.py:439: UserWarning: X does not have valid feature names, but LinearRegression was fitted with feature names\n",
      "  warnings.warn(\n"
     ]
    }
   ],
   "source": [
    "print(lin_reg_model.predict([[1325412060,4,4,4,0]]))"
   ]
  },
  {
   "cell_type": "code",
   "execution_count": 36,
   "id": "b546287c-053c-48ca-8a8b-53fee1ae7c2a",
   "metadata": {},
   "outputs": [],
   "source": [
    "import pickle "
   ]
  },
  {
   "cell_type": "code",
   "execution_count": 37,
   "id": "57a08d95-38c7-4fd5-b798-6a471bcb2a13",
   "metadata": {},
   "outputs": [],
   "source": [
    "with open(\"data.pkl\", \"wb\") as file:\n",
    "    pickle.dump(lin_reg_model, file)"
   ]
  },
  {
   "cell_type": "code",
   "execution_count": 38,
   "id": "8c9637a8-765b-438b-9485-276a3d7f7577",
   "metadata": {},
   "outputs": [
    {
     "name": "stdout",
     "output_type": "stream",
     "text": [
      "LinearRegression()\n"
     ]
    }
   ],
   "source": [
    "with open(\"data.pkl\", \"rb\") as file:  \n",
    "    loaded_data = pickle.load(file)  \n",
    "    print(loaded_data) "
   ]
  },
  {
   "cell_type": "code",
   "execution_count": null,
   "id": "ea2cc71d-31ca-4ffd-a996-ba928e710819",
   "metadata": {},
   "outputs": [],
   "source": []
  },
  {
   "cell_type": "code",
   "execution_count": null,
   "id": "2a837e10-a9ee-47e7-b1f7-9d4e38f12455",
   "metadata": {},
   "outputs": [],
   "source": []
  }
 ],
 "metadata": {
  "kernelspec": {
   "display_name": "Python 3 (ipykernel)",
   "language": "python",
   "name": "python3"
  },
  "language_info": {
   "codemirror_mode": {
    "name": "ipython",
    "version": 3
   },
   "file_extension": ".py",
   "mimetype": "text/x-python",
   "name": "python",
   "nbconvert_exporter": "python",
   "pygments_lexer": "ipython3",
   "version": "3.11.7"
  }
 },
 "nbformat": 4,
 "nbformat_minor": 5
}
